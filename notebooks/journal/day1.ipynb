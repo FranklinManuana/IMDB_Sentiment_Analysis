{
 "cells": [
  {
   "cell_type": "markdown",
   "id": "a53cd88e",
   "metadata": {},
   "source": [
    "### Initial Project Idea and Setup"
   ]
  },
  {
   "cell_type": "code",
   "execution_count": 2,
   "id": "45557029",
   "metadata": {},
   "outputs": [],
   "source": [
    "\"\"\"Import Libraries\"\"\"\n",
    "\n",
    "# import basics\n",
    "import pandas as pd\n",
    "import numpy as np\n",
    "import matplotlib.pyplot as plt\n",
    "import seaborn as sns\n",
    "import random\n",
    "\n",
    "# import datasets\n",
    "from datasets import load_dataset\n",
    "\n",
    "# import libraries to clean text\n",
    "import string\n",
    "import re\n",
    "import nltk\n",
    "from nltk.corpus import stopwords\n",
    "from nltk.stem import PorterStemmer\n",
    "from nltk.stem import WordNetLemmatizer\n",
    "\n"
   ]
  },
  {
   "cell_type": "code",
   "execution_count": 3,
   "id": "8609c0ac",
   "metadata": {},
   "outputs": [],
   "source": [
    "# get imdb dataset\n",
    "ds = load_dataset(\"imdb\")"
   ]
  },
  {
   "cell_type": "code",
   "execution_count": 4,
   "id": "942fbd64",
   "metadata": {},
   "outputs": [
    {
     "data": {
      "text/plain": [
       "DatasetDict({\n",
       "    train: Dataset({\n",
       "        features: ['text', 'label'],\n",
       "        num_rows: 25000\n",
       "    })\n",
       "    test: Dataset({\n",
       "        features: ['text', 'label'],\n",
       "        num_rows: 25000\n",
       "    })\n",
       "    unsupervised: Dataset({\n",
       "        features: ['text', 'label'],\n",
       "        num_rows: 50000\n",
       "    })\n",
       "})"
      ]
     },
     "execution_count": 4,
     "metadata": {},
     "output_type": "execute_result"
    }
   ],
   "source": [
    "# view structure\n",
    "ds"
   ]
  },
  {
   "cell_type": "code",
   "execution_count": 5,
   "id": "29ab3acf",
   "metadata": {},
   "outputs": [],
   "source": [
    "# store train and test in seperate dataframes\n",
    "ds_train = pd.DataFrame(ds['train'])\n",
    "ds_test = pd.DataFrame(ds['test'])"
   ]
  },
  {
   "cell_type": "code",
   "execution_count": 6,
   "id": "45a32648",
   "metadata": {},
   "outputs": [
    {
     "data": {
      "text/plain": [
       "'\"I Am Curious: Yellow\" is a risible and pretentious steaming pile. It doesn\\'t matter what one\\'s political views are because this film can hardly be taken seriously on any level. As for the claim that frontal male nudity is an automatic NC-17, that isn\\'t true. I\\'ve seen R-rated films with male nudity. Granted, they only offer some fleeting views, but where are the R-rated films with gaping vulvas and flapping labia? Nowhere, because they don\\'t exist. The same goes for those crappy cable shows: schlongs swinging in the breeze but not a clitoris in sight. And those pretentious indie movies like The Brown Bunny, in which we\\'re treated to the site of Vincent Gallo\\'s throbbing johnson, but not a trace of pink visible on Chloe Sevigny. Before crying (or implying) \"double-standard\" in matters of nudity, the mentally obtuse should take into account one unavoidably obvious anatomical difference between men and women: there are no genitals on display when actresses appears nude, and the same cannot be said for a man. In fact, you generally won\\'t see female genitals in an American film in anything short of porn or explicit erotica. This alleged double-standard is less a double standard than an admittedly depressing ability to come to terms culturally with the insides of women\\'s bodies.'"
      ]
     },
     "execution_count": 6,
     "metadata": {},
     "output_type": "execute_result"
    }
   ],
   "source": [
    "# view one of the text outputs\n",
    "ds_train['text'][1]"
   ]
  },
  {
   "cell_type": "markdown",
   "id": "26c0ab69",
   "metadata": {},
   "source": [
    "## Preprocessing Functions"
   ]
  },
  {
   "cell_type": "code",
   "execution_count": null,
   "id": "172bf5ad",
   "metadata": {},
   "outputs": [],
   "source": [
    "# function to remove html tags\n",
    "def remove_html_tags(review):\n",
    "    clean_text = re.sub('<.*?>', '', review)\n",
    "    return clean_text\n",
    "\n",
    "# function to remove punctuation\n",
    "def remove_punctuation(review):\n",
    "    no_punc = review.translate(str.maketrans(\"\",\"\", string.punctuation))\n",
    "    return no_punc\n",
    "\n",
    "# function for tokenization\n",
    "def tokenization(review):\n",
    "    tokens = review.lower().split()\n",
    "    return tokens\n",
    "\n",
    "# function to remove stopwords\n",
    "def remove_stopwords(review):\n",
    "    stop_words = set(stopwords.words('english'))\n",
    "    no_stop_words = [word for word in review if word not in stop_words]\n",
    "    return no_stop_words\n",
    "\n",
    "#function to lemmatize\n",
    "def lemmatize(review):\n",
    "    lemmatizer = WordNetLemmatizer()\n",
    "    lemmatized_words = [lemmatizer.lemmatize(word) for word in review]\n",
    "    return lemmatized_words\n",
    "\n",
    "# function for stem word\n",
    "def stemming (review):\n",
    "    stemmer = PorterStemmer()\n",
    "    stemmed_words = [stemmer.stem(word) for word in review]\n",
    "    return stemmed_words"
   ]
  },
  {
   "cell_type": "code",
   "execution_count": 7,
   "id": "746ce76d",
   "metadata": {},
   "outputs": [],
   "source": [
    "'''Because a BERT model will be used, preprocessing will be kept\n",
    "to a minimum with html and punction_removal and tokenization in order to keep context and nuance'''\n",
    "\n",
    "# function to remove html tags\n",
    "def remove_html_tags(review):\n",
    "    clean_text = re.sub('<.*?>', '', review)\n",
    "    return clean_text\n",
    "\n",
    "# function to remove punctuation\n",
    "def remove_punctuation(review):\n",
    "    no_punc = review.translate(str.maketrans(\"\",\"\", string.punctuation))\n",
    "    return no_punc\n",
    "\n",
    "\n",
    "# function for tokenization\n",
    "def tokenization(review):\n",
    "    tokens = review.lower().split()\n",
    "    return tokens\n",
    "\n",
    "\n",
    "# make a preprocessing function that\n",
    "def preprocessing(review):\n",
    "    preprocess = review['text'].apply(lambda x: remove_html_tags(x))\n",
    "    preprocess = preprocess.apply(lambda x: remove_punctuation(x))\n",
    "    preprocess= preprocess.apply(lambda x: tokenization(x))\n",
    "    return preprocess"
   ]
  },
  {
   "cell_type": "code",
   "execution_count": null,
   "id": "09d610d1",
   "metadata": {},
   "outputs": [],
   "source": []
  }
 ],
 "metadata": {
  "kernelspec": {
   "display_name": "base",
   "language": "python",
   "name": "python3"
  },
  "language_info": {
   "codemirror_mode": {
    "name": "ipython",
    "version": 3
   },
   "file_extension": ".py",
   "mimetype": "text/x-python",
   "name": "python",
   "nbconvert_exporter": "python",
   "pygments_lexer": "ipython3",
   "version": "3.12.7"
  }
 },
 "nbformat": 4,
 "nbformat_minor": 5
}
