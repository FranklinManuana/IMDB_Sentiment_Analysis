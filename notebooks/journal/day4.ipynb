{
 "cells": [
  {
   "cell_type": "markdown",
   "id": "213157ec",
   "metadata": {},
   "source": [
    "### Phase 1: Library import"
   ]
  },
  {
   "cell_type": "code",
   "execution_count": 1,
   "id": "ac5eb5b7",
   "metadata": {},
   "outputs": [],
   "source": [
    "# import basic libraries\n",
    "import pandas as pd\n",
    "import numpy as np\n",
    "import matplotlib.pyplot as plt\n",
    "import seaborn as sns\n",
    "import random\n",
    "\n",
    "# import dataset\n",
    "from datasets import load_dataset\n",
    "\n",
    "# import libraries to clean text\n",
    "import string\n",
    "import re\n",
    "import nltk\n",
    "from nltk.corpus import stopwords\n",
    "from nltk.stem import PorterStemmer\n",
    "from nltk.stem import WordNetLemmatizer\n",
    "\n",
    "\n",
    "# import sklearn and transformers\n",
    "# Traditional ML\n",
    "from sklearn.linear_model import LogisticRegression\n",
    "from sklearn.metrics import accuracy_score, precision_recall_fscore_support\n",
    "from sklearn.metrics import confusion_matrix\n",
    "from sklearn.linear_model import LogisticRegression\n",
    "from sklearn.pipeline import Pipeline\n",
    "from sklearn.feature_extraction.text import TfidfVectorizer\n",
    "\n",
    "\n",
    "# BERT-untrained\n",
    "from transformers import DistilBertConfig\n",
    "from transformers import DistilBertForSequenceClassification\n",
    "from transformers import Trainer\n",
    "from transformers import TrainingArguments\n",
    "from transformers import DistilBertTokenizerFast\n",
    "\n",
    "# Bert-trained\n",
    "from transformers import DistilBertForSequenceClassification\n",
    "from transformers import Trainer\n",
    "from transformers import TrainingArguments\n",
    "from transformers import DistilBertTokenizerFast\n",
    "\n",
    "# Evaluation\n",
    "from sklearn.metrics import classification_report\n"
   ]
  },
  {
   "cell_type": "markdown",
   "id": "fb52926f",
   "metadata": {},
   "source": [
    "### Phase 2: Data Upload"
   ]
  },
  {
   "cell_type": "code",
   "execution_count": 3,
   "id": "551820a8",
   "metadata": {},
   "outputs": [
    {
     "data": {
      "text/plain": [
       "DatasetDict({\n",
       "    train: Dataset({\n",
       "        features: ['text', 'label'],\n",
       "        num_rows: 25000\n",
       "    })\n",
       "    test: Dataset({\n",
       "        features: ['text', 'label'],\n",
       "        num_rows: 25000\n",
       "    })\n",
       "    unsupervised: Dataset({\n",
       "        features: ['text', 'label'],\n",
       "        num_rows: 50000\n",
       "    })\n",
       "})"
      ]
     },
     "execution_count": 3,
     "metadata": {},
     "output_type": "execute_result"
    }
   ],
   "source": [
    "dataset =load_dataset(\"imdb\")\n",
    "dataset"
   ]
  },
  {
   "cell_type": "code",
   "execution_count": null,
   "id": "44055497",
   "metadata": {},
   "outputs": [
    {
     "data": {
      "text/html": [
       "<div>\n",
       "<style scoped>\n",
       "    .dataframe tbody tr th:only-of-type {\n",
       "        vertical-align: middle;\n",
       "    }\n",
       "\n",
       "    .dataframe tbody tr th {\n",
       "        vertical-align: top;\n",
       "    }\n",
       "\n",
       "    .dataframe thead th {\n",
       "        text-align: right;\n",
       "    }\n",
       "</style>\n",
       "<table border=\"1\" class=\"dataframe\">\n",
       "  <thead>\n",
       "    <tr style=\"text-align: right;\">\n",
       "      <th></th>\n",
       "      <th>review</th>\n",
       "      <th>labels</th>\n",
       "    </tr>\n",
       "  </thead>\n",
       "  <tbody>\n",
       "    <tr>\n",
       "      <th>0</th>\n",
       "      <td>&lt;br /&gt;&lt;br /&gt;When I unsuspectedly rented A Thou...</td>\n",
       "      <td>1</td>\n",
       "    </tr>\n",
       "    <tr>\n",
       "      <th>1</th>\n",
       "      <td>This is the latest entry in the long series of...</td>\n",
       "      <td>1</td>\n",
       "    </tr>\n",
       "    <tr>\n",
       "      <th>2</th>\n",
       "      <td>This movie was so frustrating. Everything seem...</td>\n",
       "      <td>0</td>\n",
       "    </tr>\n",
       "    <tr>\n",
       "      <th>3</th>\n",
       "      <td>I was truly and wonderfully surprised at \"O' B...</td>\n",
       "      <td>1</td>\n",
       "    </tr>\n",
       "    <tr>\n",
       "      <th>4</th>\n",
       "      <td>This movie spends most of its time preaching t...</td>\n",
       "      <td>0</td>\n",
       "    </tr>\n",
       "    <tr>\n",
       "      <th>...</th>\n",
       "      <td>...</td>\n",
       "      <td>...</td>\n",
       "    </tr>\n",
       "    <tr>\n",
       "      <th>95</th>\n",
       "      <td>I've seen some terrible book-to-film adaptatio...</td>\n",
       "      <td>0</td>\n",
       "    </tr>\n",
       "    <tr>\n",
       "      <th>96</th>\n",
       "      <td>I see that C. Thomas Howell has appeared in ma...</td>\n",
       "      <td>0</td>\n",
       "    </tr>\n",
       "    <tr>\n",
       "      <th>97</th>\n",
       "      <td>Wow! What a movie if you want to blow your bud...</td>\n",
       "      <td>0</td>\n",
       "    </tr>\n",
       "    <tr>\n",
       "      <th>98</th>\n",
       "      <td>There are few films that deal with things that...</td>\n",
       "      <td>1</td>\n",
       "    </tr>\n",
       "    <tr>\n",
       "      <th>99</th>\n",
       "      <td>One of the best! As being a fan of the civil w...</td>\n",
       "      <td>1</td>\n",
       "    </tr>\n",
       "  </tbody>\n",
       "</table>\n",
       "<p>100 rows × 2 columns</p>\n",
       "</div>"
      ],
      "text/plain": [
       "                                               review  labels\n",
       "0   <br /><br />When I unsuspectedly rented A Thou...       1\n",
       "1   This is the latest entry in the long series of...       1\n",
       "2   This movie was so frustrating. Everything seem...       0\n",
       "3   I was truly and wonderfully surprised at \"O' B...       1\n",
       "4   This movie spends most of its time preaching t...       0\n",
       "..                                                ...     ...\n",
       "95  I've seen some terrible book-to-film adaptatio...       0\n",
       "96  I see that C. Thomas Howell has appeared in ma...       0\n",
       "97  Wow! What a movie if you want to blow your bud...       0\n",
       "98  There are few films that deal with things that...       1\n",
       "99  One of the best! As being a fan of the civil w...       1\n",
       "\n",
       "[100 rows x 2 columns]"
      ]
     },
     "execution_count": 14,
     "metadata": {},
     "output_type": "execute_result"
    }
   ],
   "source": [
    "# take small subset to test models\n",
    "small_train_dataset = dataset[\"train\"].shuffle(seed=42).select(range(100))\n",
    "small_eval_dataset = dataset[\"test\"].shuffle(seed=42).select(range(100))\n",
    "\n",
    "# convert into dataframes for manipulation\n",
    "small_train_df = pd.DataFrame(small_train_dataset)\n",
    "small_eval_df = pd.DataFrame(small_eval_dataset)\n",
    "\n",
    "small_train_df.rename(columns= {\"text\": \"review\", \"label\":\"labels\"})\n",
    "small_eval_df.rename(columns= {\"text\": \"review\", \"label\":\"labels\"})"
   ]
  },
  {
   "cell_type": "markdown",
   "id": "f59d34ab",
   "metadata": {},
   "source": [
    "### Phase 3: Preprocessing"
   ]
  },
  {
   "cell_type": "code",
   "execution_count": null,
   "id": "d9a7f090",
   "metadata": {},
   "outputs": [],
   "source": [
    "# Traditional ML\n",
    "\n",
    "# function to remove html tags\n",
    "def remove_html_tags(review):\n",
    "    clean_text = re.sub('<.*?>', '', review)\n",
    "    return clean_text\n",
    "\n",
    "# function to remove punctuation\n",
    "def remove_punctuation(review):\n",
    "    no_punc = review.translate(str.maketrans(\"\",\"\", string.punctuation))\n",
    "    return no_punc\n",
    "\n",
    "\n",
    "# function for TF_IDF\n",
    "def TF_IDF(review):\n",
    "    tokens = review.lower()\n",
    "    vectorizer = TfidfVectorizer(max_features = 10000)\n",
    "    return vectorizer.fit_transform(review)\n",
    "\n",
    "\n",
    "# make a preprocessing function that cleans reviews and performs TF-IDF\n",
    "def preprocessing(review):\n",
    "    preprocess = review['review'].apply(lambda x: remove_html_tags(x))\n",
    "    preprocess = preprocess.apply(lambda x: remove_punctuation(x))\n",
    "    preprocess= preprocess.apply(lambda x: TF_IDF(x))\n",
    "    return preprocess"
   ]
  },
  {
   "cell_type": "code",
   "execution_count": 16,
   "id": "074b42c1",
   "metadata": {},
   "outputs": [
    {
     "ename": "ValueError",
     "evalue": "Iterable over raw text documents expected, string object received.",
     "output_type": "error",
     "traceback": [
      "\u001b[0;31m---------------------------------------------------------------------------\u001b[0m",
      "\u001b[0;31mValueError\u001b[0m                                Traceback (most recent call last)",
      "Cell \u001b[0;32mIn[16], line 1\u001b[0m\n\u001b[0;32m----> 1\u001b[0m result \u001b[38;5;241m=\u001b[39m preprocessing(small_train_df)\n\u001b[1;32m      2\u001b[0m small_train_df[\u001b[38;5;124m'\u001b[39m\u001b[38;5;124mprocessed_review\u001b[39m\u001b[38;5;124m'\u001b[39m] \u001b[38;5;241m=\u001b[39m result\n\u001b[1;32m      3\u001b[0m small_train_df\u001b[38;5;241m.\u001b[39mhead()\n",
      "Cell \u001b[0;32mIn[6], line 25\u001b[0m, in \u001b[0;36mpreprocessing\u001b[0;34m(review)\u001b[0m\n\u001b[1;32m     23\u001b[0m preprocess \u001b[38;5;241m=\u001b[39m review[\u001b[38;5;124m'\u001b[39m\u001b[38;5;124mtext\u001b[39m\u001b[38;5;124m'\u001b[39m]\u001b[38;5;241m.\u001b[39mapply(\u001b[38;5;28;01mlambda\u001b[39;00m x: remove_html_tags(x))\n\u001b[1;32m     24\u001b[0m preprocess \u001b[38;5;241m=\u001b[39m preprocess\u001b[38;5;241m.\u001b[39mapply(\u001b[38;5;28;01mlambda\u001b[39;00m x: remove_punctuation(x))\n\u001b[0;32m---> 25\u001b[0m preprocess\u001b[38;5;241m=\u001b[39m preprocess\u001b[38;5;241m.\u001b[39mapply(\u001b[38;5;28;01mlambda\u001b[39;00m x: TF_IDF(x))\n\u001b[1;32m     26\u001b[0m \u001b[38;5;28;01mreturn\u001b[39;00m preprocess\n",
      "File \u001b[0;32m~/anaconda3/lib/python3.12/site-packages/pandas/core/series.py:4924\u001b[0m, in \u001b[0;36mSeries.apply\u001b[0;34m(self, func, convert_dtype, args, by_row, **kwargs)\u001b[0m\n\u001b[1;32m   4789\u001b[0m \u001b[38;5;28;01mdef\u001b[39;00m \u001b[38;5;21mapply\u001b[39m(\n\u001b[1;32m   4790\u001b[0m     \u001b[38;5;28mself\u001b[39m,\n\u001b[1;32m   4791\u001b[0m     func: AggFuncType,\n\u001b[0;32m   (...)\u001b[0m\n\u001b[1;32m   4796\u001b[0m     \u001b[38;5;241m*\u001b[39m\u001b[38;5;241m*\u001b[39mkwargs,\n\u001b[1;32m   4797\u001b[0m ) \u001b[38;5;241m-\u001b[39m\u001b[38;5;241m>\u001b[39m DataFrame \u001b[38;5;241m|\u001b[39m Series:\n\u001b[1;32m   4798\u001b[0m \u001b[38;5;250m    \u001b[39m\u001b[38;5;124;03m\"\"\"\u001b[39;00m\n\u001b[1;32m   4799\u001b[0m \u001b[38;5;124;03m    Invoke function on values of Series.\u001b[39;00m\n\u001b[1;32m   4800\u001b[0m \n\u001b[0;32m   (...)\u001b[0m\n\u001b[1;32m   4915\u001b[0m \u001b[38;5;124;03m    dtype: float64\u001b[39;00m\n\u001b[1;32m   4916\u001b[0m \u001b[38;5;124;03m    \"\"\"\u001b[39;00m\n\u001b[1;32m   4917\u001b[0m     \u001b[38;5;28;01mreturn\u001b[39;00m SeriesApply(\n\u001b[1;32m   4918\u001b[0m         \u001b[38;5;28mself\u001b[39m,\n\u001b[1;32m   4919\u001b[0m         func,\n\u001b[1;32m   4920\u001b[0m         convert_dtype\u001b[38;5;241m=\u001b[39mconvert_dtype,\n\u001b[1;32m   4921\u001b[0m         by_row\u001b[38;5;241m=\u001b[39mby_row,\n\u001b[1;32m   4922\u001b[0m         args\u001b[38;5;241m=\u001b[39margs,\n\u001b[1;32m   4923\u001b[0m         kwargs\u001b[38;5;241m=\u001b[39mkwargs,\n\u001b[0;32m-> 4924\u001b[0m     )\u001b[38;5;241m.\u001b[39mapply()\n",
      "File \u001b[0;32m~/anaconda3/lib/python3.12/site-packages/pandas/core/apply.py:1427\u001b[0m, in \u001b[0;36mSeriesApply.apply\u001b[0;34m(self)\u001b[0m\n\u001b[1;32m   1424\u001b[0m     \u001b[38;5;28;01mreturn\u001b[39;00m \u001b[38;5;28mself\u001b[39m\u001b[38;5;241m.\u001b[39mapply_compat()\n\u001b[1;32m   1426\u001b[0m \u001b[38;5;66;03m# self.func is Callable\u001b[39;00m\n\u001b[0;32m-> 1427\u001b[0m \u001b[38;5;28;01mreturn\u001b[39;00m \u001b[38;5;28mself\u001b[39m\u001b[38;5;241m.\u001b[39mapply_standard()\n",
      "File \u001b[0;32m~/anaconda3/lib/python3.12/site-packages/pandas/core/apply.py:1507\u001b[0m, in \u001b[0;36mSeriesApply.apply_standard\u001b[0;34m(self)\u001b[0m\n\u001b[1;32m   1501\u001b[0m \u001b[38;5;66;03m# row-wise access\u001b[39;00m\n\u001b[1;32m   1502\u001b[0m \u001b[38;5;66;03m# apply doesn't have a `na_action` keyword and for backward compat reasons\u001b[39;00m\n\u001b[1;32m   1503\u001b[0m \u001b[38;5;66;03m# we need to give `na_action=\"ignore\"` for categorical data.\u001b[39;00m\n\u001b[1;32m   1504\u001b[0m \u001b[38;5;66;03m# TODO: remove the `na_action=\"ignore\"` when that default has been changed in\u001b[39;00m\n\u001b[1;32m   1505\u001b[0m \u001b[38;5;66;03m#  Categorical (GH51645).\u001b[39;00m\n\u001b[1;32m   1506\u001b[0m action \u001b[38;5;241m=\u001b[39m \u001b[38;5;124m\"\u001b[39m\u001b[38;5;124mignore\u001b[39m\u001b[38;5;124m\"\u001b[39m \u001b[38;5;28;01mif\u001b[39;00m \u001b[38;5;28misinstance\u001b[39m(obj\u001b[38;5;241m.\u001b[39mdtype, CategoricalDtype) \u001b[38;5;28;01melse\u001b[39;00m \u001b[38;5;28;01mNone\u001b[39;00m\n\u001b[0;32m-> 1507\u001b[0m mapped \u001b[38;5;241m=\u001b[39m obj\u001b[38;5;241m.\u001b[39m_map_values(\n\u001b[1;32m   1508\u001b[0m     mapper\u001b[38;5;241m=\u001b[39mcurried, na_action\u001b[38;5;241m=\u001b[39maction, convert\u001b[38;5;241m=\u001b[39m\u001b[38;5;28mself\u001b[39m\u001b[38;5;241m.\u001b[39mconvert_dtype\n\u001b[1;32m   1509\u001b[0m )\n\u001b[1;32m   1511\u001b[0m \u001b[38;5;28;01mif\u001b[39;00m \u001b[38;5;28mlen\u001b[39m(mapped) \u001b[38;5;129;01mand\u001b[39;00m \u001b[38;5;28misinstance\u001b[39m(mapped[\u001b[38;5;241m0\u001b[39m], ABCSeries):\n\u001b[1;32m   1512\u001b[0m     \u001b[38;5;66;03m# GH#43986 Need to do list(mapped) in order to get treated as nested\u001b[39;00m\n\u001b[1;32m   1513\u001b[0m     \u001b[38;5;66;03m#  See also GH#25959 regarding EA support\u001b[39;00m\n\u001b[1;32m   1514\u001b[0m     \u001b[38;5;28;01mreturn\u001b[39;00m obj\u001b[38;5;241m.\u001b[39m_constructor_expanddim(\u001b[38;5;28mlist\u001b[39m(mapped), index\u001b[38;5;241m=\u001b[39mobj\u001b[38;5;241m.\u001b[39mindex)\n",
      "File \u001b[0;32m~/anaconda3/lib/python3.12/site-packages/pandas/core/base.py:921\u001b[0m, in \u001b[0;36mIndexOpsMixin._map_values\u001b[0;34m(self, mapper, na_action, convert)\u001b[0m\n\u001b[1;32m    918\u001b[0m \u001b[38;5;28;01mif\u001b[39;00m \u001b[38;5;28misinstance\u001b[39m(arr, ExtensionArray):\n\u001b[1;32m    919\u001b[0m     \u001b[38;5;28;01mreturn\u001b[39;00m arr\u001b[38;5;241m.\u001b[39mmap(mapper, na_action\u001b[38;5;241m=\u001b[39mna_action)\n\u001b[0;32m--> 921\u001b[0m \u001b[38;5;28;01mreturn\u001b[39;00m algorithms\u001b[38;5;241m.\u001b[39mmap_array(arr, mapper, na_action\u001b[38;5;241m=\u001b[39mna_action, convert\u001b[38;5;241m=\u001b[39mconvert)\n",
      "File \u001b[0;32m~/anaconda3/lib/python3.12/site-packages/pandas/core/algorithms.py:1743\u001b[0m, in \u001b[0;36mmap_array\u001b[0;34m(arr, mapper, na_action, convert)\u001b[0m\n\u001b[1;32m   1741\u001b[0m values \u001b[38;5;241m=\u001b[39m arr\u001b[38;5;241m.\u001b[39mastype(\u001b[38;5;28mobject\u001b[39m, copy\u001b[38;5;241m=\u001b[39m\u001b[38;5;28;01mFalse\u001b[39;00m)\n\u001b[1;32m   1742\u001b[0m \u001b[38;5;28;01mif\u001b[39;00m na_action \u001b[38;5;129;01mis\u001b[39;00m \u001b[38;5;28;01mNone\u001b[39;00m:\n\u001b[0;32m-> 1743\u001b[0m     \u001b[38;5;28;01mreturn\u001b[39;00m lib\u001b[38;5;241m.\u001b[39mmap_infer(values, mapper, convert\u001b[38;5;241m=\u001b[39mconvert)\n\u001b[1;32m   1744\u001b[0m \u001b[38;5;28;01melse\u001b[39;00m:\n\u001b[1;32m   1745\u001b[0m     \u001b[38;5;28;01mreturn\u001b[39;00m lib\u001b[38;5;241m.\u001b[39mmap_infer_mask(\n\u001b[1;32m   1746\u001b[0m         values, mapper, mask\u001b[38;5;241m=\u001b[39misna(values)\u001b[38;5;241m.\u001b[39mview(np\u001b[38;5;241m.\u001b[39muint8), convert\u001b[38;5;241m=\u001b[39mconvert\n\u001b[1;32m   1747\u001b[0m     )\n",
      "File \u001b[0;32mlib.pyx:2972\u001b[0m, in \u001b[0;36mpandas._libs.lib.map_infer\u001b[0;34m()\u001b[0m\n",
      "Cell \u001b[0;32mIn[6], line 25\u001b[0m, in \u001b[0;36mpreprocessing.<locals>.<lambda>\u001b[0;34m(x)\u001b[0m\n\u001b[1;32m     23\u001b[0m preprocess \u001b[38;5;241m=\u001b[39m review[\u001b[38;5;124m'\u001b[39m\u001b[38;5;124mtext\u001b[39m\u001b[38;5;124m'\u001b[39m]\u001b[38;5;241m.\u001b[39mapply(\u001b[38;5;28;01mlambda\u001b[39;00m x: remove_html_tags(x))\n\u001b[1;32m     24\u001b[0m preprocess \u001b[38;5;241m=\u001b[39m preprocess\u001b[38;5;241m.\u001b[39mapply(\u001b[38;5;28;01mlambda\u001b[39;00m x: remove_punctuation(x))\n\u001b[0;32m---> 25\u001b[0m preprocess\u001b[38;5;241m=\u001b[39m preprocess\u001b[38;5;241m.\u001b[39mapply(\u001b[38;5;28;01mlambda\u001b[39;00m x: TF_IDF(x))\n\u001b[1;32m     26\u001b[0m \u001b[38;5;28;01mreturn\u001b[39;00m preprocess\n",
      "Cell \u001b[0;32mIn[6], line 18\u001b[0m, in \u001b[0;36mTF_IDF\u001b[0;34m(review)\u001b[0m\n\u001b[1;32m     16\u001b[0m tokens \u001b[38;5;241m=\u001b[39m review\u001b[38;5;241m.\u001b[39mlower()\n\u001b[1;32m     17\u001b[0m vectorizer \u001b[38;5;241m=\u001b[39m TfidfVectorizer(max_features \u001b[38;5;241m=\u001b[39m \u001b[38;5;241m10000\u001b[39m)\n\u001b[0;32m---> 18\u001b[0m \u001b[38;5;28;01mreturn\u001b[39;00m vectorizer\u001b[38;5;241m.\u001b[39mfit_transform(review)\n",
      "File \u001b[0;32m~/anaconda3/lib/python3.12/site-packages/sklearn/feature_extraction/text.py:2091\u001b[0m, in \u001b[0;36mTfidfVectorizer.fit_transform\u001b[0;34m(self, raw_documents, y)\u001b[0m\n\u001b[1;32m   2084\u001b[0m \u001b[38;5;28mself\u001b[39m\u001b[38;5;241m.\u001b[39m_check_params()\n\u001b[1;32m   2085\u001b[0m \u001b[38;5;28mself\u001b[39m\u001b[38;5;241m.\u001b[39m_tfidf \u001b[38;5;241m=\u001b[39m TfidfTransformer(\n\u001b[1;32m   2086\u001b[0m     norm\u001b[38;5;241m=\u001b[39m\u001b[38;5;28mself\u001b[39m\u001b[38;5;241m.\u001b[39mnorm,\n\u001b[1;32m   2087\u001b[0m     use_idf\u001b[38;5;241m=\u001b[39m\u001b[38;5;28mself\u001b[39m\u001b[38;5;241m.\u001b[39muse_idf,\n\u001b[1;32m   2088\u001b[0m     smooth_idf\u001b[38;5;241m=\u001b[39m\u001b[38;5;28mself\u001b[39m\u001b[38;5;241m.\u001b[39msmooth_idf,\n\u001b[1;32m   2089\u001b[0m     sublinear_tf\u001b[38;5;241m=\u001b[39m\u001b[38;5;28mself\u001b[39m\u001b[38;5;241m.\u001b[39msublinear_tf,\n\u001b[1;32m   2090\u001b[0m )\n\u001b[0;32m-> 2091\u001b[0m X \u001b[38;5;241m=\u001b[39m \u001b[38;5;28msuper\u001b[39m()\u001b[38;5;241m.\u001b[39mfit_transform(raw_documents)\n\u001b[1;32m   2092\u001b[0m \u001b[38;5;28mself\u001b[39m\u001b[38;5;241m.\u001b[39m_tfidf\u001b[38;5;241m.\u001b[39mfit(X)\n\u001b[1;32m   2093\u001b[0m \u001b[38;5;66;03m# X is already a transformed view of raw_documents so\u001b[39;00m\n\u001b[1;32m   2094\u001b[0m \u001b[38;5;66;03m# we set copy to False\u001b[39;00m\n",
      "File \u001b[0;32m~/anaconda3/lib/python3.12/site-packages/sklearn/base.py:1473\u001b[0m, in \u001b[0;36m_fit_context.<locals>.decorator.<locals>.wrapper\u001b[0;34m(estimator, *args, **kwargs)\u001b[0m\n\u001b[1;32m   1466\u001b[0m     estimator\u001b[38;5;241m.\u001b[39m_validate_params()\n\u001b[1;32m   1468\u001b[0m \u001b[38;5;28;01mwith\u001b[39;00m config_context(\n\u001b[1;32m   1469\u001b[0m     skip_parameter_validation\u001b[38;5;241m=\u001b[39m(\n\u001b[1;32m   1470\u001b[0m         prefer_skip_nested_validation \u001b[38;5;129;01mor\u001b[39;00m global_skip_validation\n\u001b[1;32m   1471\u001b[0m     )\n\u001b[1;32m   1472\u001b[0m ):\n\u001b[0;32m-> 1473\u001b[0m     \u001b[38;5;28;01mreturn\u001b[39;00m fit_method(estimator, \u001b[38;5;241m*\u001b[39margs, \u001b[38;5;241m*\u001b[39m\u001b[38;5;241m*\u001b[39mkwargs)\n",
      "File \u001b[0;32m~/anaconda3/lib/python3.12/site-packages/sklearn/feature_extraction/text.py:1350\u001b[0m, in \u001b[0;36mCountVectorizer.fit_transform\u001b[0;34m(self, raw_documents, y)\u001b[0m\n\u001b[1;32m   1346\u001b[0m \u001b[38;5;66;03m# We intentionally don't call the transform method to make\u001b[39;00m\n\u001b[1;32m   1347\u001b[0m \u001b[38;5;66;03m# fit_transform overridable without unwanted side effects in\u001b[39;00m\n\u001b[1;32m   1348\u001b[0m \u001b[38;5;66;03m# TfidfVectorizer.\u001b[39;00m\n\u001b[1;32m   1349\u001b[0m \u001b[38;5;28;01mif\u001b[39;00m \u001b[38;5;28misinstance\u001b[39m(raw_documents, \u001b[38;5;28mstr\u001b[39m):\n\u001b[0;32m-> 1350\u001b[0m     \u001b[38;5;28;01mraise\u001b[39;00m \u001b[38;5;167;01mValueError\u001b[39;00m(\n\u001b[1;32m   1351\u001b[0m         \u001b[38;5;124m\"\u001b[39m\u001b[38;5;124mIterable over raw text documents expected, string object received.\u001b[39m\u001b[38;5;124m\"\u001b[39m\n\u001b[1;32m   1352\u001b[0m     )\n\u001b[1;32m   1354\u001b[0m \u001b[38;5;28mself\u001b[39m\u001b[38;5;241m.\u001b[39m_validate_ngram_range()\n\u001b[1;32m   1355\u001b[0m \u001b[38;5;28mself\u001b[39m\u001b[38;5;241m.\u001b[39m_warn_for_unused_params()\n",
      "\u001b[0;31mValueError\u001b[0m: Iterable over raw text documents expected, string object received."
     ]
    }
   ],
   "source": [
    "result = preprocessing(small_train_df)\n",
    "small_train_df['processed_review'] = result\n",
    "small_train_df.head()"
   ]
  },
  {
   "cell_type": "markdown",
   "id": "a06ec2d3",
   "metadata": {},
   "source": [
    "### Phase4: Representation"
   ]
  },
  {
   "cell_type": "code",
   "execution_count": null,
   "id": "19e6ef19",
   "metadata": {},
   "outputs": [],
   "source": [
    "# distilbert represenation via tokenization\n",
    "def tokenization(data):\n",
    "    return tokenizer(data[\"text\"], padding = \"max_length\", truncation=True, max_length= 512)"
   ]
  },
  {
   "cell_type": "markdown",
   "id": "dde2f791",
   "metadata": {},
   "source": [
    "### Phase 5: Trainer Setup"
   ]
  },
  {
   "cell_type": "code",
   "execution_count": 15,
   "id": "149ec0f7",
   "metadata": {},
   "outputs": [
    {
     "ename": "TypeError",
     "evalue": "TrainingArguments.__init__() got an unexpected keyword argument 'evaluation_strategy'",
     "output_type": "error",
     "traceback": [
      "\u001b[0;31m---------------------------------------------------------------------------\u001b[0m",
      "\u001b[0;31mTypeError\u001b[0m                                 Traceback (most recent call last)",
      "Cell \u001b[0;32mIn[15], line 3\u001b[0m\n\u001b[1;32m      1\u001b[0m \u001b[38;5;66;03m# untrained\u001b[39;00m\n\u001b[0;32m----> 3\u001b[0m training_arguments \u001b[38;5;241m=\u001b[39m TrainingArguments(\n\u001b[1;32m      4\u001b[0m     output_dir \u001b[38;5;241m=\u001b[39m \u001b[38;5;124m\"\u001b[39m\u001b[38;5;124m../results_scratch\u001b[39m\u001b[38;5;124m\"\u001b[39m,\n\u001b[1;32m      5\u001b[0m     evaluation_strategy \u001b[38;5;241m=\u001b[39m \u001b[38;5;124m\"\u001b[39m\u001b[38;5;124mepoch\u001b[39m\u001b[38;5;124m\"\u001b[39m,\n\u001b[1;32m      6\u001b[0m     num_train_epochs \u001b[38;5;241m=\u001b[39m \u001b[38;5;241m3\u001b[39m,\n\u001b[1;32m      7\u001b[0m     per_device_train_batch_size \u001b[38;5;241m=\u001b[39m \u001b[38;5;241m16\u001b[39m,\n\u001b[1;32m      8\u001b[0m     per_device_eval_batch_size \u001b[38;5;241m=\u001b[39m \u001b[38;5;241m16\u001b[39m,\n\u001b[1;32m      9\u001b[0m     logging_dir \u001b[38;5;241m=\u001b[39m \u001b[38;5;124m\"\u001b[39m\u001b[38;5;124m./logs\u001b[39m\u001b[38;5;124m\"\u001b[39m,\n\u001b[1;32m     10\u001b[0m     logging_steps \u001b[38;5;241m=\u001b[39m \u001b[38;5;241m10\u001b[39m,\n\u001b[1;32m     11\u001b[0m )\n\u001b[1;32m     13\u001b[0m trainer \u001b[38;5;241m=\u001b[39m Trainer(\n\u001b[1;32m     14\u001b[0m     model \u001b[38;5;241m=\u001b[39m model, \u001b[38;5;66;03m# model to be trained\u001b[39;00m\n\u001b[1;32m     15\u001b[0m     args \u001b[38;5;241m=\u001b[39m training_arguments, \u001b[38;5;66;03m# trainer arguments\u001b[39;00m\n\u001b[1;32m     16\u001b[0m     train_dataset \u001b[38;5;241m=\u001b[39m small_train_dataset, \u001b[38;5;66;03m# training set\u001b[39;00m\n\u001b[1;32m     17\u001b[0m     eval_dataset \u001b[38;5;241m=\u001b[39m small_eval_dataset \u001b[38;5;66;03m# evaluation set\u001b[39;00m\n\u001b[1;32m     18\u001b[0m )\n\u001b[1;32m     20\u001b[0m \u001b[38;5;66;03m# Trained\u001b[39;00m\n",
      "\u001b[0;31mTypeError\u001b[0m: TrainingArguments.__init__() got an unexpected keyword argument 'evaluation_strategy'"
     ]
    }
   ],
   "source": [
    "# untrained\n",
    "\n",
    "training_arguments = TrainingArguments(\n",
    "    output_dir = \"../results_scratch\",\n",
    "    evaluation_strategy = \"epoch\",\n",
    "    num_train_epochs = 3,\n",
    "    per_device_train_batch_size = 16,\n",
    "    per_device_eval_batch_size = 16,\n",
    "    logging_dir = \"./logs\",\n",
    "    logging_steps = 10,\n",
    ")\n",
    "\n",
    "trainer = Trainer(\n",
    "    model = model, # model to be trained\n",
    "    args = training_arguments, # trainer arguments\n",
    "    train_dataset = small_train_dataset, # training set\n",
    "    eval_dataset = small_eval_dataset # evaluation set\n",
    ")\n",
    "\n",
    "# Trained\n",
    "\n",
    "training_arguments = TrainingArguments(\n",
    "    output_dir = \"../results_finetuned\",\n",
    "    evaluation_strategy = \"epoch\",\n",
    "    num_train_epochs = 3,\n",
    "    per_device_train_batch_size = 16,\n",
    "    per_device_eval_batch_size = 16,\n",
    "    logging_dir = \"./logs\",\n",
    "    logging_steps = 10,\n",
    ")\n",
    "\n",
    "trainer = Trainer(\n",
    "    model = model, # model to be trained\n",
    "    args = training_arguments, # trainer arguments\n",
    "    train_dataset = small_train_dataset, # training set\n",
    "    eval_dataset = small_eval_dataset # evaluation set\n",
    ")"
   ]
  },
  {
   "cell_type": "markdown",
   "id": "11083f49",
   "metadata": {},
   "source": [
    "### Phase 5: Model Construction"
   ]
  },
  {
   "cell_type": "code",
   "execution_count": null,
   "id": "12216ae6",
   "metadata": {},
   "outputs": [],
   "source": [
    "# Traditional ML\n",
    "def trad_ml(X_train, y_train):\n",
    "    model = LogisticRegression()\n",
    "    model.fit(X_train,y_train)\n",
    "    return model\n",
    "\n",
    "# untrained model\n",
    "def untrained_bert(df_train, df_test):\n",
    "    config = DistilBertConfig(num_labels=2) # confiugre untrained model 2 labels\n",
    "    model = DistilBertForSequenceClassification(config) # add configuration to untrained model\n",
    "    tokenizer = DistilBertTokenizerFast.from_pretrained(\"distilbert-base-uncased\") # Tokenization method\n",
    "\n",
    "    def tokenization(dataset):\n",
    "        return tokenizer(dataset[\"text\"], padding = \"max_length\", truncation=True, max_length= 512)\n",
    "    \n",
    "    # map the tokenized datasets\n",
    "    dataset_train = dataset_train.map(tokenization, batched=True)\n",
    "    dataset_test = dataset_test.map(tokenization, batched=True)\n",
    "\n",
    "\n",
    "    # setup the training Parameters\n",
    "    training_arguments = TrainingArguments(\n",
    "    output_dir = \"./results_scratch\",\n",
    "    evaluation_strategy = \"epoch\",\n",
    "    num_train_epochs = 3,\n",
    "    per_device_train_batch_size = 16,\n",
    "    per_device_eval_batch_size = 16,\n",
    "    logging_dir = \"./logs\",\n",
    "    logging_steps = 10,\n",
    "    )\n",
    "\n",
    "    # Create trainer object\n",
    "    trainer = Trainer(\n",
    "        model = model, # model to be trained\n",
    "        args = training_arguments, # trainer arguments\n",
    "        train_dataset = small_train_dataset, # training set\n",
    "        eval_dataset = small_eval_dataset # evaluation set\n",
    "    )\n",
    "\n",
    "    trainer.train() # Execute training session(s)\n",
    "\n",
    "    return model, tokenizer # return model and tokenized data for evaluation\n",
    "\n",
    "\n",
    "    \n",
    "# pretrained model\n",
    "def pretrained_bert(dataset_train, dataset_test):\n",
    "    tokenizer = DistilBertTokenizerFast.from_pretrained(\"distilbert-base-uncased\")\n",
    "    model = DistilBertForSequenceClassification.from_pretrained(\"distilbert-base-uncased\", num_labels=2)\n",
    "\n",
    "    def tokenization(dataset):\n",
    "        return tokenizer(dataset[\"text\"], padding = \"max_length\", truncation=True)\n",
    "    \n",
    "    # map the tokenized datasets\n",
    "    dataset_train = dataset_train.map(tokenization, batched=True)\n",
    "    dataset_test = dataset_test.map(tokenization, batched=True)\n",
    "    \n",
    "    # setup training Parameters\n",
    "    training_arguments = TrainingArguments(\n",
    "    output_dir = \"./results_finetuned\",\n",
    "    evaluation_strategy = \"epoch\",\n",
    "    num_train_epochs = 3,\n",
    "    per_device_train_batch_size = 16,\n",
    "    per_device_eval_batch_size = 16,\n",
    "    logging_dir = \"./logs\",\n",
    "    logging_steps = 10\n",
    "    )\n",
    "\n",
    "    trainer = Trainer(\n",
    "        model = model, # model to be trained\n",
    "        args = training_arguments, # trainer arguments\n",
    "        train_dataset = small_train_dataset, # training set\n",
    "        eval_dataset = small_eval_dataset # evaluation set\n",
    "    )\n",
    "    trainer.train() # Execute training session(s)\n",
    "    return model, tokenizer # return model and tokenizer for evaluation"
   ]
  },
  {
   "cell_type": "markdown",
   "id": "7c682ae2",
   "metadata": {},
   "source": [
    "### Phase 6: Evaluation"
   ]
  },
  {
   "cell_type": "code",
   "execution_count": null,
   "id": "4ae11fa3",
   "metadata": {},
   "outputs": [],
   "source": [
    "# setup evaluation fucntion\n",
    "def evaluate_model(model, X_test, y_test, model_type, tokenizer = none):\n",
    "    if model_type == \"tradditioanl\":\n",
    "        X = [preprocessing(x) for x in X_test]\n",
    "        y_pred = model.preprocessing(X)\n",
    "    else:\n",
    "        inputs = tokenizer(list(X_test), padding = True, truncation=True, return_tensors=\"pt\")\n",
    "        outputs = model(**inputs)\n",
    "        y_pred = np.argmax(outputs.logits.detach().numpy(), axis=1)\n",
    "    \n",
    "    print(classification_report(y_test,y_pred))\n"
   ]
  },
  {
   "cell_type": "markdown",
   "id": "11617911",
   "metadata": {},
   "source": [
    "### Phase7: Execution"
   ]
  },
  {
   "cell_type": "code",
   "execution_count": null,
   "id": "6cfd39d0",
   "metadata": {},
   "outputs": [],
   "source": [
    " # Train traditional model\n",
    "model_trad = trad_ml(X_train, y_train)\n",
    "evaluate_model(model_trad, X_test, y_test, model_type=\"traditional\")\n",
    "\n",
    "# Train DNN from scratch\n",
    "model_scratch, tokenizer_scratch = untrained_bert(small_train_df, small_test_df)\n",
    "evaluate_model(model_scratch, X_test, y_test, model_type=\"transformer\", tokenizer=tokenizer_scratch)\n",
    "\n",
    "# Train fine-tuned pretrained model\n",
    "model_finetuned, tokenizer_finetuned = pretrained_bert(small_train_df, small_test_df)\n",
    "evaluate_model(model_finetuned, X_test, y_test, model_type=\"transformer\", tokenizer=tokenizer_finetuned)"
   ]
  }
 ],
 "metadata": {
  "kernelspec": {
   "display_name": "base",
   "language": "python",
   "name": "python3"
  },
  "language_info": {
   "codemirror_mode": {
    "name": "ipython",
    "version": 3
   },
   "file_extension": ".py",
   "mimetype": "text/x-python",
   "name": "python",
   "nbconvert_exporter": "python",
   "pygments_lexer": "ipython3",
   "version": "3.12.7"
  }
 },
 "nbformat": 4,
 "nbformat_minor": 5
}
